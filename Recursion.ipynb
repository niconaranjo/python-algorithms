{
 "cells": [
  {
   "cell_type": "code",
   "execution_count": 1,
   "id": "eb064f31",
   "metadata": {},
   "outputs": [],
   "source": [
    "box_list = [\n",
    "   {\n",
    "        \"is_a_box\": True,\n",
    "        \"box_list\": [\n",
    "            {\n",
    "                \"is_a_box\": False,\n",
    "                \"box_list\": [],\n",
    "                \"is_a_key\": False\n",
    "            },\n",
    "            {\n",
    "                \"is_a_box\": False,\n",
    "                \"box_list\": [],\n",
    "                \"is_a_key\": False\n",
    "            },\n",
    "        ],\n",
    "        \"is_a_key\": False\n",
    "    },\n",
    "    {\n",
    "        \"is_a_box\": False,\n",
    "        \"box_list\": [],\n",
    "        \"is_a_key\": True\n",
    "    },\n",
    "    {\n",
    "        \"is_a_box\": True,\n",
    "        \"box_list\": [],\n",
    "        \"is_a_key\": False\n",
    "    } \n",
    "]"
   ]
  },
  {
   "cell_type": "code",
   "execution_count": 2,
   "id": "7cc83fbb",
   "metadata": {},
   "outputs": [],
   "source": [
    "def look_for_key(box_list): \n",
    "    for item in box_list:\n",
    "        if item[\"is_a_box\"]:\n",
    "            look_for_key(item[\"box_list\"])\n",
    "        elif item[\"is_a_key\"]:\n",
    "            print(\"key found\")"
   ]
  },
  {
   "cell_type": "code",
   "execution_count": 3,
   "id": "39ec49ca",
   "metadata": {},
   "outputs": [
    {
     "name": "stdout",
     "output_type": "stream",
     "text": [
      "key found\n"
     ]
    }
   ],
   "source": [
    "look_for_key(box_list)"
   ]
  },
  {
   "cell_type": "code",
   "execution_count": null,
   "id": "3601b5cf",
   "metadata": {},
   "outputs": [],
   "source": []
  }
 ],
 "metadata": {
  "kernelspec": {
   "display_name": "Python 3",
   "language": "python",
   "name": "python3"
  },
  "language_info": {
   "codemirror_mode": {
    "name": "ipython",
    "version": 3
   },
   "file_extension": ".py",
   "mimetype": "text/x-python",
   "name": "python",
   "nbconvert_exporter": "python",
   "pygments_lexer": "ipython3",
   "version": "3.10.4"
  },
  "vscode": {
   "interpreter": {
    "hash": "3ad933181bd8a04b432d3370b9dc3b0662ad032c4dfaa4e4f1596c548f763858"
   }
  }
 },
 "nbformat": 4,
 "nbformat_minor": 5
}
