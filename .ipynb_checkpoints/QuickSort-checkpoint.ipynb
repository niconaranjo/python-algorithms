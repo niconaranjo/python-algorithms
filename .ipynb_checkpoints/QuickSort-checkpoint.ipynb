{
 "cells": [
  {
   "cell_type": "markdown",
   "id": "7d276cc6",
   "metadata": {},
   "source": [
    "Quick sort algorithm"
   ]
  },
  {
   "cell_type": "code",
   "execution_count": 8,
   "id": "2212d8a7",
   "metadata": {},
   "outputs": [],
   "source": [
    "def quick_sort(my_array):\n",
    "    if len(my_array) < 2:\n",
    "        return my_array\n",
    "    else:\n",
    "        pivot = my_array[0]\n",
    "        less = [i for i in my_array[1:] if i <= pivot]\n",
    "        greater = [i for i in my_array[1:] if i > pivot]\n",
    "        \n",
    "        return quick_sort(less) + [pivot] + quick_sort(greater)\n",
    "        \n",
    "    "
   ]
  },
  {
   "cell_type": "code",
   "execution_count": 9,
   "id": "3e36514f",
   "metadata": {},
   "outputs": [],
   "source": [
    "my_arr = [30,10,2,3,6,90]"
   ]
  },
  {
   "cell_type": "code",
   "execution_count": 10,
   "id": "7c0c80c7",
   "metadata": {},
   "outputs": [
    {
     "name": "stdout",
     "output_type": "stream",
     "text": [
      "[2, 10, 30]\n"
     ]
    }
   ],
   "source": [
    "print(quick_sort(my_arr))"
   ]
  },
  {
   "cell_type": "code",
   "execution_count": null,
   "id": "479b4563",
   "metadata": {},
   "outputs": [],
   "source": []
  }
 ],
 "metadata": {
  "kernelspec": {
   "display_name": "Python 3 (ipykernel)",
   "language": "python",
   "name": "python3"
  },
  "language_info": {
   "codemirror_mode": {
    "name": "ipython",
    "version": 3
   },
   "file_extension": ".py",
   "mimetype": "text/x-python",
   "name": "python",
   "nbconvert_exporter": "python",
   "pygments_lexer": "ipython3",
   "version": "3.11.1"
  }
 },
 "nbformat": 4,
 "nbformat_minor": 5
}
