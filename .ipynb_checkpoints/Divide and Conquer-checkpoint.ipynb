{
 "cells": [
  {
   "cell_type": "code",
   "execution_count": 1,
   "id": "ba33de4b",
   "metadata": {},
   "outputs": [],
   "source": [
    "# Recursive method for adding numbers in array"
   ]
  },
  {
   "cell_type": "code",
   "execution_count": 2,
   "id": "2452df40",
   "metadata": {},
   "outputs": [],
   "source": [
    "num_arr = [1,2,3,4,5]"
   ]
  },
  {
   "cell_type": "code",
   "execution_count": 3,
   "id": "c2b6af4c",
   "metadata": {},
   "outputs": [],
   "source": [
    "def sum_num_array(n_array):\n",
    "    print(n_array)\n",
    "    \n",
    "    if len(n_array) == 0:\n",
    "        return 0\n",
    "    \n",
    "    return n_array[0] + sum_num_array(n_array[1:])"
   ]
  },
  {
   "cell_type": "code",
   "execution_count": 4,
   "id": "b920ed46",
   "metadata": {},
   "outputs": [
    {
     "name": "stdout",
     "output_type": "stream",
     "text": [
      "[1, 2, 3, 4, 5]\n",
      "[2, 3, 4, 5]\n",
      "[3, 4, 5]\n",
      "[4, 5]\n",
      "[5]\n",
      "[]\n",
      "15\n"
     ]
    }
   ],
   "source": [
    "print(sum_num_array(num_arr))"
   ]
  },
  {
   "cell_type": "code",
   "execution_count": 5,
   "id": "5700395c",
   "metadata": {},
   "outputs": [],
   "source": [
    "# Recursive method for counting items in a list"
   ]
  },
  {
   "cell_type": "code",
   "execution_count": 6,
   "id": "c9f641e7",
   "metadata": {},
   "outputs": [],
   "source": [
    "num_arr = [1,2,3,4,5, \"hello\"]"
   ]
  },
  {
   "cell_type": "code",
   "execution_count": 7,
   "id": "96495d2d",
   "metadata": {},
   "outputs": [],
   "source": [
    "def count_items(list_num):\n",
    "    if len(list_num) == 0:\n",
    "        return 0\n",
    "    \n",
    "    return 1 + count_items(list_num[1:])\n",
    "    "
   ]
  },
  {
   "cell_type": "code",
   "execution_count": 8,
   "id": "191dda4a",
   "metadata": {},
   "outputs": [
    {
     "name": "stdout",
     "output_type": "stream",
     "text": [
      "6\n"
     ]
    }
   ],
   "source": [
    "print(count_items(num_arr))"
   ]
  },
  {
   "cell_type": "code",
   "execution_count": 9,
   "id": "81e6acd4",
   "metadata": {},
   "outputs": [],
   "source": [
    "# Find the maximum number in a list"
   ]
  },
  {
   "cell_type": "code",
   "execution_count": 10,
   "id": "ed3ac2cc",
   "metadata": {},
   "outputs": [],
   "source": [
    "my_list = [101,20,4,50,100]"
   ]
  },
  {
   "cell_type": "code",
   "execution_count": 11,
   "id": "f7b00ca9",
   "metadata": {},
   "outputs": [],
   "source": [
    "def find_max(list_num, max_num = 0):\n",
    "    if len(list_num) == 0:\n",
    "        return max_num\n",
    "    \n",
    "    if max_num < list_num[0]:\n",
    "        return find_max(list_num[1:], list_num[0])\n",
    "    \n",
    "    return find_max(list_num[1:], max_num)\n",
    "    "
   ]
  },
  {
   "cell_type": "code",
   "execution_count": 12,
   "id": "3167e815",
   "metadata": {},
   "outputs": [
    {
     "name": "stdout",
     "output_type": "stream",
     "text": [
      "101\n"
     ]
    }
   ],
   "source": [
    "print(find_max(my_list))"
   ]
  },
  {
   "cell_type": "code",
   "execution_count": 13,
   "id": "78a1c4d3",
   "metadata": {},
   "outputs": [],
   "source": [
    "# Basic Search algorithm"
   ]
  },
  {
   "cell_type": "code",
   "execution_count": 14,
   "id": "135781b9",
   "metadata": {},
   "outputs": [],
   "source": [
    "my_list = [1,2,3,4,5,6,7,8,9,10]"
   ]
  },
  {
   "cell_type": "code",
   "execution_count": 15,
   "id": "26768b31",
   "metadata": {},
   "outputs": [],
   "source": [
    "def basic_search(list_num, item, step=0):\n",
    "    middle = int(len(list_num)  / 2) - 1\n",
    "    print(f'middle {middle}')\n",
    "    print(f'list_num {list_num}')\n",
    "    print(f'list_num[middle] {list_num[middle]}')\n",
    "    \n",
    "    \n",
    "    print(list_num[middle])\n",
    "    \n",
    "    \n",
    "    if list_num[middle] == item:\n",
    "        print(step)\n",
    "        return list_num[middle]\n",
    "    \n",
    "    if item < list_num[middle]:\n",
    "        print(item)\n",
    "        return basic_search(list_num[:middle], item, step + 1)\n",
    "    \n",
    "\n",
    "    "
   ]
  },
  {
   "cell_type": "code",
   "execution_count": 16,
   "id": "d44322a2",
   "metadata": {},
   "outputs": [
    {
     "name": "stdout",
     "output_type": "stream",
     "text": [
      "middle 4\n",
      "list_num [1, 2, 3, 4, 5, 6, 7, 8, 9, 10]\n",
      "list_num[middle] 5\n",
      "5\n",
      "1\n",
      "middle 1\n",
      "list_num [1, 2, 3, 4]\n",
      "list_num[middle] 2\n",
      "2\n",
      "1\n",
      "middle -1\n",
      "list_num [1]\n",
      "list_num[middle] 1\n",
      "1\n",
      "2\n",
      "1\n"
     ]
    }
   ],
   "source": [
    "print(basic_search(my_list, 1))"
   ]
  },
  {
   "cell_type": "code",
   "execution_count": null,
   "id": "587c7d72",
   "metadata": {},
   "outputs": [],
   "source": []
  }
 ],
 "metadata": {
  "kernelspec": {
   "display_name": "Python 3 (ipykernel)",
   "language": "python",
   "name": "python3"
  },
  "language_info": {
   "codemirror_mode": {
    "name": "ipython",
    "version": 3
   },
   "file_extension": ".py",
   "mimetype": "text/x-python",
   "name": "python",
   "nbconvert_exporter": "python",
   "pygments_lexer": "ipython3",
   "version": "3.11.1"
  },
  "vscode": {
   "interpreter": {
    "hash": "3ad933181bd8a04b432d3370b9dc3b0662ad032c4dfaa4e4f1596c548f763858"
   }
  }
 },
 "nbformat": 4,
 "nbformat_minor": 5
}
