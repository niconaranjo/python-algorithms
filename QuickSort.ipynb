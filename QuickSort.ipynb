{
 "cells": [
  {
   "cell_type": "markdown",
   "id": "f321f82e",
   "metadata": {},
   "source": [
    "Quick sort algorithm"
   ]
  },
  {
   "cell_type": "code",
   "execution_count": 11,
   "id": "cb5c1388",
   "metadata": {},
   "outputs": [],
   "source": [
    "def quick_sort(my_array):\n",
    "    if len(my_array) < 2:\n",
    "        return my_array\n",
    "    else:\n",
    "        pivot = my_array[0]\n",
    "        less = [i for i in my_array[1:] if i <= pivot]\n",
    "        greater = [i for i in my_array[1:] if i > pivot]\n",
    "        \n",
    "        return quick_sort(less) + [pivot] + quick_sort(greater)\n",
    "        \n",
    "    "
   ]
  },
  {
   "cell_type": "code",
   "execution_count": 14,
   "id": "f6f2cac8",
   "metadata": {},
   "outputs": [],
   "source": [
    "my_arr = [30,10,2,3,6,90, 2]"
   ]
  },
  {
   "cell_type": "code",
   "execution_count": 17,
   "id": "b8a175ae",
   "metadata": {},
   "outputs": [
    {
     "name": "stdout",
     "output_type": "stream",
     "text": [
      "[2, 2, 3, 6, 10, 30, 90]\n"
     ]
    }
   ],
   "source": [
    "print(quick_sort(my_arr))"
   ]
  },
  {
   "cell_type": "code",
   "execution_count": 50,
   "id": "1a327094",
   "metadata": {},
   "outputs": [],
   "source": [
    "def partition(arr,low,high):\n",
    "    i = (low - 1)\n",
    "    pivot = arr[high]\n",
    "    \n",
    "    for j in range(low, high):\n",
    "        if arr[j] <= pivot:\n",
    "            i+= 1\n",
    "            arr[i], arr[j] = arr[j], arr[i]\n",
    "    \n",
    "    arr[i + 1], arr[high] = arr[high], arr[i+1]\n",
    "    return( i + 1)\n",
    "    "
   ]
  },
  {
   "cell_type": "code",
   "execution_count": 51,
   "id": "fdd1be30",
   "metadata": {},
   "outputs": [],
   "source": [
    "def quickSort(arr,low,high):\n",
    "    if low < high:\n",
    "        pi = partition(arr, low, high)\n",
    "        \n",
    "        quickSort(arr, low, pi-1)\n",
    "        quickSort(arr, pi + 1, high)\n",
    "        return arr\n",
    "        \n",
    "    else:\n",
    "        return arr"
   ]
  },
  {
   "cell_type": "code",
   "execution_count": 52,
   "id": "f5c40ff0",
   "metadata": {},
   "outputs": [
    {
     "name": "stdout",
     "output_type": "stream",
     "text": [
      "[1, 2, 3, 4, 5, 100]\n"
     ]
    }
   ],
   "source": [
    "my_arr= [100, 4,5,2,3, 1]\n",
    "\n",
    "print(quickSort(my_arr, 0, len(my_arr)-1))"
   ]
  },
  {
   "cell_type": "code",
   "execution_count": null,
   "id": "f2bf89e6",
   "metadata": {},
   "outputs": [],
   "source": []
  },
  {
   "cell_type": "code",
   "execution_count": null,
   "id": "2ddf519d",
   "metadata": {},
   "outputs": [],
   "source": []
  }
 ],
 "metadata": {
  "kernelspec": {
   "display_name": "Python 3 (ipykernel)",
   "language": "python",
   "name": "python3"
  },
  "language_info": {
   "codemirror_mode": {
    "name": "ipython",
    "version": 3
   },
   "file_extension": ".py",
   "mimetype": "text/x-python",
   "name": "python",
   "nbconvert_exporter": "python",
   "pygments_lexer": "ipython3",
   "version": "3.11.1"
  }
 },
 "nbformat": 4,
 "nbformat_minor": 5
}
